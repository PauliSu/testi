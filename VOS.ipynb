{
  "nbformat": 4,
  "nbformat_minor": 0,
  "metadata": {
    "colab": {
      "name": "VOS.ipynb",
      "provenance": [],
      "authorship_tag": "ABX9TyMZYrNqZusUyHj64khaA4+Z",
      "include_colab_link": true
    },
    "kernelspec": {
      "name": "python3",
      "display_name": "Python 3"
    }
  },
  "cells": [
    {
      "cell_type": "markdown",
      "metadata": {
        "id": "view-in-github",
        "colab_type": "text"
      },
      "source": [
        "<a href=\"https://colab.research.google.com/github/PauliSu/testi/blob/master/VOS.ipynb\" target=\"_parent\"><img src=\"https://colab.research.google.com/assets/colab-badge.svg\" alt=\"Open In Colab\"/></a>"
      ]
    },
    {
      "cell_type": "code",
      "metadata": {
        "id": "CtiN51ZESSVC"
      },
      "source": [
        "import pandas as pd\r\n",
        "import json\r\n",
        "import requests as re"
      ],
      "execution_count": null,
      "outputs": []
    },
    {
      "cell_type": "code",
      "metadata": {
        "colab": {
          "base_uri": "https://localhost:8080/",
          "height": 346
        },
        "id": "WswEd7q8UANq",
        "outputId": "fd62b455-ae92-4545-c4c2-8ffb3c228a3c"
      },
      "source": [
        "# Luetaan data keskusmuistiin, data tulee muistikortilta joten on hitaampaa kuin SSD:ltä.\r\n",
        "with open(\"vosdata.json\", \"r\") as read_file:\r\n",
        "    data = json.load(read_file)"
      ],
      "execution_count": null,
      "outputs": [
        {
          "output_type": "error",
          "ename": "JSONDecodeError",
          "evalue": "ignored",
          "traceback": [
            "\u001b[0;31m---------------------------------------------------------------------------\u001b[0m",
            "\u001b[0;31mJSONDecodeError\u001b[0m                           Traceback (most recent call last)",
            "\u001b[0;32m<ipython-input-14-f3cb7d85e452>\u001b[0m in \u001b[0;36m<module>\u001b[0;34m()\u001b[0m\n\u001b[1;32m      1\u001b[0m \u001b[0;31m# Luetaan data keskusmuistiin, data tulee muistikortilta joten on hitaampaa kuin SSD:ltä.\u001b[0m\u001b[0;34m\u001b[0m\u001b[0;34m\u001b[0m\u001b[0;34m\u001b[0m\u001b[0m\n\u001b[1;32m      2\u001b[0m \u001b[0;32mwith\u001b[0m \u001b[0mopen\u001b[0m\u001b[0;34m(\u001b[0m\u001b[0;34m\"vosdata.json\"\u001b[0m\u001b[0;34m,\u001b[0m \u001b[0;34m\"r\"\u001b[0m\u001b[0;34m)\u001b[0m \u001b[0;32mas\u001b[0m \u001b[0mread_file\u001b[0m\u001b[0;34m:\u001b[0m\u001b[0;34m\u001b[0m\u001b[0;34m\u001b[0m\u001b[0m\n\u001b[0;32m----> 3\u001b[0;31m     \u001b[0mdata\u001b[0m \u001b[0;34m=\u001b[0m \u001b[0mjson\u001b[0m\u001b[0;34m.\u001b[0m\u001b[0mload\u001b[0m\u001b[0;34m(\u001b[0m\u001b[0mread_file\u001b[0m\u001b[0;34m)\u001b[0m\u001b[0;34m\u001b[0m\u001b[0;34m\u001b[0m\u001b[0m\n\u001b[0m",
            "\u001b[0;32m/usr/lib/python3.7/json/__init__.py\u001b[0m in \u001b[0;36mload\u001b[0;34m(fp, cls, object_hook, parse_float, parse_int, parse_constant, object_pairs_hook, **kw)\u001b[0m\n\u001b[1;32m    294\u001b[0m         \u001b[0mcls\u001b[0m\u001b[0;34m=\u001b[0m\u001b[0mcls\u001b[0m\u001b[0;34m,\u001b[0m \u001b[0mobject_hook\u001b[0m\u001b[0;34m=\u001b[0m\u001b[0mobject_hook\u001b[0m\u001b[0;34m,\u001b[0m\u001b[0;34m\u001b[0m\u001b[0;34m\u001b[0m\u001b[0m\n\u001b[1;32m    295\u001b[0m         \u001b[0mparse_float\u001b[0m\u001b[0;34m=\u001b[0m\u001b[0mparse_float\u001b[0m\u001b[0;34m,\u001b[0m \u001b[0mparse_int\u001b[0m\u001b[0;34m=\u001b[0m\u001b[0mparse_int\u001b[0m\u001b[0;34m,\u001b[0m\u001b[0;34m\u001b[0m\u001b[0;34m\u001b[0m\u001b[0m\n\u001b[0;32m--> 296\u001b[0;31m         parse_constant=parse_constant, object_pairs_hook=object_pairs_hook, **kw)\n\u001b[0m\u001b[1;32m    297\u001b[0m \u001b[0;34m\u001b[0m\u001b[0m\n\u001b[1;32m    298\u001b[0m \u001b[0;34m\u001b[0m\u001b[0m\n",
            "\u001b[0;32m/usr/lib/python3.7/json/__init__.py\u001b[0m in \u001b[0;36mloads\u001b[0;34m(s, encoding, cls, object_hook, parse_float, parse_int, parse_constant, object_pairs_hook, **kw)\u001b[0m\n\u001b[1;32m    346\u001b[0m             \u001b[0mparse_int\u001b[0m \u001b[0;32mis\u001b[0m \u001b[0;32mNone\u001b[0m \u001b[0;32mand\u001b[0m \u001b[0mparse_float\u001b[0m \u001b[0;32mis\u001b[0m \u001b[0;32mNone\u001b[0m \u001b[0;32mand\u001b[0m\u001b[0;34m\u001b[0m\u001b[0;34m\u001b[0m\u001b[0m\n\u001b[1;32m    347\u001b[0m             parse_constant is None and object_pairs_hook is None and not kw):\n\u001b[0;32m--> 348\u001b[0;31m         \u001b[0;32mreturn\u001b[0m \u001b[0m_default_decoder\u001b[0m\u001b[0;34m.\u001b[0m\u001b[0mdecode\u001b[0m\u001b[0;34m(\u001b[0m\u001b[0ms\u001b[0m\u001b[0;34m)\u001b[0m\u001b[0;34m\u001b[0m\u001b[0;34m\u001b[0m\u001b[0m\n\u001b[0m\u001b[1;32m    349\u001b[0m     \u001b[0;32mif\u001b[0m \u001b[0mcls\u001b[0m \u001b[0;32mis\u001b[0m \u001b[0;32mNone\u001b[0m\u001b[0;34m:\u001b[0m\u001b[0;34m\u001b[0m\u001b[0;34m\u001b[0m\u001b[0m\n\u001b[1;32m    350\u001b[0m         \u001b[0mcls\u001b[0m \u001b[0;34m=\u001b[0m \u001b[0mJSONDecoder\u001b[0m\u001b[0;34m\u001b[0m\u001b[0;34m\u001b[0m\u001b[0m\n",
            "\u001b[0;32m/usr/lib/python3.7/json/decoder.py\u001b[0m in \u001b[0;36mdecode\u001b[0;34m(self, s, _w)\u001b[0m\n\u001b[1;32m    335\u001b[0m \u001b[0;34m\u001b[0m\u001b[0m\n\u001b[1;32m    336\u001b[0m         \"\"\"\n\u001b[0;32m--> 337\u001b[0;31m         \u001b[0mobj\u001b[0m\u001b[0;34m,\u001b[0m \u001b[0mend\u001b[0m \u001b[0;34m=\u001b[0m \u001b[0mself\u001b[0m\u001b[0;34m.\u001b[0m\u001b[0mraw_decode\u001b[0m\u001b[0;34m(\u001b[0m\u001b[0ms\u001b[0m\u001b[0;34m,\u001b[0m \u001b[0midx\u001b[0m\u001b[0;34m=\u001b[0m\u001b[0m_w\u001b[0m\u001b[0;34m(\u001b[0m\u001b[0ms\u001b[0m\u001b[0;34m,\u001b[0m \u001b[0;36m0\u001b[0m\u001b[0;34m)\u001b[0m\u001b[0;34m.\u001b[0m\u001b[0mend\u001b[0m\u001b[0;34m(\u001b[0m\u001b[0;34m)\u001b[0m\u001b[0;34m)\u001b[0m\u001b[0;34m\u001b[0m\u001b[0;34m\u001b[0m\u001b[0m\n\u001b[0m\u001b[1;32m    338\u001b[0m         \u001b[0mend\u001b[0m \u001b[0;34m=\u001b[0m \u001b[0m_w\u001b[0m\u001b[0;34m(\u001b[0m\u001b[0ms\u001b[0m\u001b[0;34m,\u001b[0m \u001b[0mend\u001b[0m\u001b[0;34m)\u001b[0m\u001b[0;34m.\u001b[0m\u001b[0mend\u001b[0m\u001b[0;34m(\u001b[0m\u001b[0;34m)\u001b[0m\u001b[0;34m\u001b[0m\u001b[0;34m\u001b[0m\u001b[0m\n\u001b[1;32m    339\u001b[0m         \u001b[0;32mif\u001b[0m \u001b[0mend\u001b[0m \u001b[0;34m!=\u001b[0m \u001b[0mlen\u001b[0m\u001b[0;34m(\u001b[0m\u001b[0ms\u001b[0m\u001b[0;34m)\u001b[0m\u001b[0;34m:\u001b[0m\u001b[0;34m\u001b[0m\u001b[0;34m\u001b[0m\u001b[0m\n",
            "\u001b[0;32m/usr/lib/python3.7/json/decoder.py\u001b[0m in \u001b[0;36mraw_decode\u001b[0;34m(self, s, idx)\u001b[0m\n\u001b[1;32m    351\u001b[0m         \"\"\"\n\u001b[1;32m    352\u001b[0m         \u001b[0;32mtry\u001b[0m\u001b[0;34m:\u001b[0m\u001b[0;34m\u001b[0m\u001b[0;34m\u001b[0m\u001b[0m\n\u001b[0;32m--> 353\u001b[0;31m             \u001b[0mobj\u001b[0m\u001b[0;34m,\u001b[0m \u001b[0mend\u001b[0m \u001b[0;34m=\u001b[0m \u001b[0mself\u001b[0m\u001b[0;34m.\u001b[0m\u001b[0mscan_once\u001b[0m\u001b[0;34m(\u001b[0m\u001b[0ms\u001b[0m\u001b[0;34m,\u001b[0m \u001b[0midx\u001b[0m\u001b[0;34m)\u001b[0m\u001b[0;34m\u001b[0m\u001b[0;34m\u001b[0m\u001b[0m\n\u001b[0m\u001b[1;32m    354\u001b[0m         \u001b[0;32mexcept\u001b[0m \u001b[0mStopIteration\u001b[0m \u001b[0;32mas\u001b[0m \u001b[0merr\u001b[0m\u001b[0;34m:\u001b[0m\u001b[0;34m\u001b[0m\u001b[0;34m\u001b[0m\u001b[0m\n\u001b[1;32m    355\u001b[0m             \u001b[0;32mraise\u001b[0m \u001b[0mJSONDecodeError\u001b[0m\u001b[0;34m(\u001b[0m\u001b[0;34m\"Expecting value\"\u001b[0m\u001b[0;34m,\u001b[0m \u001b[0ms\u001b[0m\u001b[0;34m,\u001b[0m \u001b[0merr\u001b[0m\u001b[0;34m.\u001b[0m\u001b[0mvalue\u001b[0m\u001b[0;34m)\u001b[0m \u001b[0;32mfrom\u001b[0m \u001b[0;32mNone\u001b[0m\u001b[0;34m\u001b[0m\u001b[0;34m\u001b[0m\u001b[0m\n",
            "\u001b[0;31mJSONDecodeError\u001b[0m: Unterminated string starting at: line 1 column 67431411 (char 67431410)"
          ]
        }
      ]
    },
    {
      "cell_type": "markdown",
      "metadata": {
        "id": "YEEPLrWZDFDx"
      },
      "source": [
        "Vipusesta saa yo datan viimeisiltä vuosilta. URL:eja on erilaisia ja viimeinen url palauttaa datan."
      ]
    },
    {
      "cell_type": "code",
      "metadata": {
        "id": "kxRbXgPYUx8m"
      },
      "source": [
        "#url = 'http://api.vipunen.fi/api/resources'\r\n",
        "#url = 'http://api.vipunen.fi/api/resources/ytl_arvosanat'\r\n",
        "#url = 'http://api.vipunen.fi/api/resources/ytl_arvosanat/count'\r\n",
        "url = 'http://api.vipunen.fi/api/resources/ytl_arvosanat/data'"
      ],
      "execution_count": null,
      "outputs": []
    },
    {
      "cell_type": "code",
      "metadata": {
        "id": "g4lTYb8SZh24"
      },
      "source": [
        "r = re.get(url)"
      ],
      "execution_count": null,
      "outputs": []
    },
    {
      "cell_type": "code",
      "metadata": {
        "colab": {
          "base_uri": "https://localhost:8080/"
        },
        "id": "3dwpqkKAZpEt",
        "outputId": "5d330c99-fa9a-405c-aa39-067264b34932"
      },
      "source": [
        "r.status_code"
      ],
      "execution_count": null,
      "outputs": [
        {
          "output_type": "execute_result",
          "data": {
            "text/plain": [
              "200"
            ]
          },
          "metadata": {
            "tags": []
          },
          "execution_count": 6
        }
      ]
    },
    {
      "cell_type": "code",
      "metadata": {
        "id": "iT1SrqB6Zqtb"
      },
      "source": [
        "r.json()"
      ],
      "execution_count": null,
      "outputs": []
    },
    {
      "cell_type": "code",
      "metadata": {
        "colab": {
          "base_uri": "https://localhost:8080/"
        },
        "id": "XJ28VTtFZuKi",
        "outputId": "b40f8aa4-56f3-4d3e-b889-221fc4e314f9"
      },
      "source": [
        "len(r.json())"
      ],
      "execution_count": null,
      "outputs": [
        {
          "output_type": "execute_result",
          "data": {
            "text/plain": [
              "805071"
            ]
          },
          "metadata": {
            "tags": []
          },
          "execution_count": 8
        }
      ]
    },
    {
      "cell_type": "markdown",
      "metadata": {
        "id": "Dth_jKgSDYgI"
      },
      "source": [
        "Vipunen palauttaa datan json muodossa ja se on muutettava ns. dataframeksi."
      ]
    },
    {
      "cell_type": "code",
      "metadata": {
        "id": "pTg75hiTZzv6"
      },
      "source": [
        "data = r.json()\r\n",
        "df = pd.DataFrame.from_dict(data, orient='columns')"
      ],
      "execution_count": null,
      "outputs": []
    },
    {
      "cell_type": "code",
      "metadata": {
        "colab": {
          "base_uri": "https://localhost:8080/"
        },
        "id": "F2x1Jwybbp4p",
        "outputId": "d83c0cf5-8c4c-4f16-f1ca-ac4269c587c3"
      },
      "source": [
        "df.info()"
      ],
      "execution_count": null,
      "outputs": [
        {
          "output_type": "stream",
          "text": [
            "<class 'pandas.core.frame.DataFrame'>\n",
            "RangeIndex: 805071 entries, 0 to 805070\n",
            "Data columns (total 16 columns):\n",
            " #   Column                 Non-Null Count   Dtype \n",
            "---  ------                 --------------   ----- \n",
            " 0   opiskelijaKoodi        805071 non-null  int64 \n",
            " 1   tutkintokertaKoodi     805071 non-null  object\n",
            " 2   tutkintokerta          805071 non-null  object\n",
            " 3   lukioKoodi             805071 non-null  object\n",
            " 4   lukio                  805071 non-null  object\n",
            " 5   oppilaitostyyppiKoodi  176712 non-null  object\n",
            " 6   oppilaitostyyppi       176712 non-null  object\n",
            " 7   opetuskieliKoodi       805071 non-null  object\n",
            " 8   opetuskieli            805071 non-null  object\n",
            " 9   sukupuoliKoodi         805071 non-null  object\n",
            " 10  sukupuoli              805048 non-null  object\n",
            " 11  koeKoodi               805071 non-null  object\n",
            " 12  koe                    805071 non-null  object\n",
            " 13  arvosanaKoodi          805071 non-null  object\n",
            " 14  arvosana               805071 non-null  object\n",
            " 15  arvosanapisteet        805071 non-null  object\n",
            "dtypes: int64(1), object(15)\n",
            "memory usage: 98.3+ MB\n"
          ],
          "name": "stdout"
        }
      ]
    },
    {
      "cell_type": "markdown",
      "metadata": {
        "id": "epkeuiC1DipQ"
      },
      "source": [
        "Arvosanapisteet ovat string ja se pitää muuttaa numeroksi."
      ]
    },
    {
      "cell_type": "code",
      "metadata": {
        "id": "EqasVwfZbsuj"
      },
      "source": [
        "df['arvosanapisteet'] = pd.to_numeric(df['arvosanapisteet'])"
      ],
      "execution_count": null,
      "outputs": []
    },
    {
      "cell_type": "markdown",
      "metadata": {
        "id": "vEIPy6e3DrVZ"
      },
      "source": [
        "Tutkintokerrat: kevät ja syksy eivät ole vertailukelpoisia koska ne ovat eri tyyppisiä. Joten kevät voidaan ottaa erikseen."
      ]
    },
    {
      "cell_type": "code",
      "metadata": {
        "id": "8caNfhFohe_u"
      },
      "source": [
        "#df.tutkintokerta.str.contains('Syksy').unique()\r\n",
        "dfkevat = df[df.tutkintokerta.str.contains('Kevät')]"
      ],
      "execution_count": null,
      "outputs": []
    },
    {
      "cell_type": "code",
      "metadata": {
        "colab": {
          "base_uri": "https://localhost:8080/"
        },
        "id": "GV8p1in5he0j",
        "outputId": "b03b080f-1c01-4344-924a-aaaf3a1ea22d"
      },
      "source": [
        "dfkevat.shape"
      ],
      "execution_count": null,
      "outputs": [
        {
          "output_type": "execute_result",
          "data": {
            "text/plain": [
              "(701193, 16)"
            ]
          },
          "metadata": {
            "tags": []
          },
          "execution_count": 15
        }
      ]
    },
    {
      "cell_type": "markdown",
      "metadata": {
        "id": "luo1-8GMD7eh"
      },
      "source": [
        "Tutkintokertoja on viisi."
      ]
    },
    {
      "cell_type": "code",
      "metadata": {
        "colab": {
          "base_uri": "https://localhost:8080/"
        },
        "id": "ww8T7jurhemO",
        "outputId": "1ed783a4-c3b7-4165-a1eb-994fb11a96b1"
      },
      "source": [
        "dfkevat.tutkintokerta.unique()"
      ],
      "execution_count": null,
      "outputs": [
        {
          "output_type": "execute_result",
          "data": {
            "text/plain": [
              "array(['Kevät 2016', 'Kevät 2017', 'Kevät 2018', 'Kevät 2019',\n",
              "       'Kevät 2020'], dtype=object)"
            ]
          },
          "metadata": {
            "tags": []
          },
          "execution_count": 16
        }
      ]
    },
    {
      "cell_type": "code",
      "metadata": {
        "id": "PWb5Wey9K2tU"
      },
      "source": [
        ""
      ],
      "execution_count": null,
      "outputs": []
    },
    {
      "cell_type": "markdown",
      "metadata": {
        "id": "ff5DM2PXECKk"
      },
      "source": [
        "Pitkä matematiikka on M"
      ]
    },
    {
      "cell_type": "code",
      "metadata": {
        "id": "BklvD8mmoiQn"
      },
      "source": [
        "dfm = dfkevat[dfkevat['koeKoodi'] == 'M']"
      ],
      "execution_count": null,
      "outputs": []
    },
    {
      "cell_type": "code",
      "metadata": {
        "id": "3evrEsgspGch"
      },
      "source": [
        "groups = dfm.groupby(['tutkintokertaKoodi','sukupuoli'])"
      ],
      "execution_count": null,
      "outputs": []
    },
    {
      "cell_type": "code",
      "metadata": {
        "id": "aeY3t9HbrHff"
      },
      "source": [
        "groups.mean().to_csv('ka.csv',sep=';')"
      ],
      "execution_count": null,
      "outputs": []
    },
    {
      "cell_type": "markdown",
      "metadata": {
        "id": "GM4XZNcxHwts"
      },
      "source": [
        "LKM on suorittajien lukumäärä"
      ]
    },
    {
      "cell_type": "code",
      "metadata": {
        "id": "A9OGvLYnGzq5"
      },
      "source": [
        "lkm = groups.count()"
      ],
      "execution_count": null,
      "outputs": []
    },
    {
      "cell_type": "code",
      "metadata": {
        "id": "QfIM1Qc2KrSx"
      },
      "source": [
        "lkm=lkm.reset_index()"
      ],
      "execution_count": null,
      "outputs": []
    },
    {
      "cell_type": "code",
      "metadata": {
        "id": "ahRLOnPhK46h"
      },
      "source": [
        "lkmMies=lkm[lkm['sukupuoli'] == 'Mies']['opiskelijaKoodi']"
      ],
      "execution_count": null,
      "outputs": []
    },
    {
      "cell_type": "code",
      "metadata": {
        "colab": {
          "base_uri": "https://localhost:8080/"
        },
        "id": "XnifTEX0K4uZ",
        "outputId": "c30b7224-f5d6-499e-a801-fe8cc2efc31c"
      },
      "source": [
        "lkmMies"
      ],
      "execution_count": null,
      "outputs": [
        {
          "output_type": "execute_result",
          "data": {
            "text/plain": [
              "0    5103\n",
              "2    5151\n",
              "4    5312\n",
              "6    5574\n",
              "8    5511\n",
              "Name: opiskelijaKoodi, dtype: int64"
            ]
          },
          "metadata": {
            "tags": []
          },
          "execution_count": 119
        }
      ]
    },
    {
      "cell_type": "code",
      "metadata": {
        "id": "jr_ewmeoK4dR"
      },
      "source": [
        "lkmNainen=lkm[lkm['sukupuoli']=='Nainen']['opiskelijaKoodi']"
      ],
      "execution_count": null,
      "outputs": []
    },
    {
      "cell_type": "code",
      "metadata": {
        "colab": {
          "base_uri": "https://localhost:8080/"
        },
        "id": "EdQUfHp5LT8v",
        "outputId": "f3c1486f-32ad-4111-e978-b23cb6708cc6"
      },
      "source": [
        "lkmNainen"
      ],
      "execution_count": null,
      "outputs": [
        {
          "output_type": "execute_result",
          "data": {
            "text/plain": [
              "1    4784\n",
              "3    4716\n",
              "5    5201\n",
              "7    5399\n",
              "9    5949\n",
              "Name: opiskelijaKoodi, dtype: int64"
            ]
          },
          "metadata": {
            "tags": []
          },
          "execution_count": 123
        }
      ]
    },
    {
      "cell_type": "code",
      "metadata": {
        "colab": {
          "base_uri": "https://localhost:8080/",
          "height": 99
        },
        "id": "evJ27OqCH4jq",
        "outputId": "26cf1f5f-46cb-4ee3-b0d1-b91accf2deb1"
      },
      "source": [
        "lkm[lkm['sukupuoliKoodi']=='Mies']"
      ],
      "execution_count": null,
      "outputs": [
        {
          "output_type": "execute_result",
          "data": {
            "text/html": [
              "<div>\n",
              "<style scoped>\n",
              "    .dataframe tbody tr th:only-of-type {\n",
              "        vertical-align: middle;\n",
              "    }\n",
              "\n",
              "    .dataframe tbody tr th {\n",
              "        vertical-align: top;\n",
              "    }\n",
              "\n",
              "    .dataframe thead th {\n",
              "        text-align: right;\n",
              "    }\n",
              "</style>\n",
              "<table border=\"1\" class=\"dataframe\">\n",
              "  <thead>\n",
              "    <tr style=\"text-align: right;\">\n",
              "      <th></th>\n",
              "      <th></th>\n",
              "      <th>opiskelijaKoodi</th>\n",
              "      <th>tutkintokerta</th>\n",
              "      <th>lukioKoodi</th>\n",
              "      <th>lukio</th>\n",
              "      <th>oppilaitostyyppiKoodi</th>\n",
              "      <th>oppilaitostyyppi</th>\n",
              "      <th>opetuskieliKoodi</th>\n",
              "      <th>opetuskieli</th>\n",
              "      <th>sukupuoliKoodi</th>\n",
              "      <th>koeKoodi</th>\n",
              "      <th>koe</th>\n",
              "      <th>arvosanaKoodi</th>\n",
              "      <th>arvosana</th>\n",
              "      <th>arvosanapisteet</th>\n",
              "    </tr>\n",
              "    <tr>\n",
              "      <th>tutkintokertaKoodi</th>\n",
              "      <th>sukupuoli</th>\n",
              "      <th></th>\n",
              "      <th></th>\n",
              "      <th></th>\n",
              "      <th></th>\n",
              "      <th></th>\n",
              "      <th></th>\n",
              "      <th></th>\n",
              "      <th></th>\n",
              "      <th></th>\n",
              "      <th></th>\n",
              "      <th></th>\n",
              "      <th></th>\n",
              "      <th></th>\n",
              "      <th></th>\n",
              "    </tr>\n",
              "  </thead>\n",
              "  <tbody>\n",
              "  </tbody>\n",
              "</table>\n",
              "</div>"
            ],
            "text/plain": [
              "Empty DataFrame\n",
              "Columns: [opiskelijaKoodi, tutkintokerta, lukioKoodi, lukio, oppilaitostyyppiKoodi, oppilaitostyyppi, opetuskieliKoodi, opetuskieli, sukupuoliKoodi, koeKoodi, koe, arvosanaKoodi, arvosana, arvosanapisteet]\n",
              "Index: []"
            ]
          },
          "metadata": {
            "tags": []
          },
          "execution_count": 112
        }
      ]
    },
    {
      "cell_type": "code",
      "metadata": {
        "colab": {
          "base_uri": "https://localhost:8080/"
        },
        "id": "JgGXSvgzG8Bh",
        "outputId": "cbe3fd32-04f4-4e9b-f448-c4ec9c571bb7"
      },
      "source": [
        "lkm.columns"
      ],
      "execution_count": null,
      "outputs": [
        {
          "output_type": "execute_result",
          "data": {
            "text/plain": [
              "Index(['opiskelijaKoodi', 'tutkintokerta', 'lukioKoodi', 'lukio',\n",
              "       'oppilaitostyyppiKoodi', 'oppilaitostyyppi', 'opetuskieliKoodi',\n",
              "       'opetuskieli', 'sukupuoliKoodi', 'koeKoodi', 'koe', 'arvosanaKoodi',\n",
              "       'arvosana', 'arvosanapisteet'],\n",
              "      dtype='object')"
            ]
          },
          "metadata": {
            "tags": []
          },
          "execution_count": 101
        }
      ]
    },
    {
      "cell_type": "code",
      "metadata": {
        "colab": {
          "base_uri": "https://localhost:8080/",
          "height": 386
        },
        "id": "6FwUAfE6IBa5",
        "outputId": "230c0f80-8ba1-43d5-8a69-177e659e6cd4"
      },
      "source": [
        "lkm.drop(['lukioKoodi', 'lukio',\r\n",
        "       'oppilaitostyyppiKoodi', 'oppilaitostyyppi', 'opetuskieliKoodi',\r\n",
        "       'opetuskieli', 'koeKoodi', 'koe', 'arvosanaKoodi',\r\n",
        "       'arvosana', 'arvosanapisteet'], axis=1)"
      ],
      "execution_count": null,
      "outputs": [
        {
          "output_type": "execute_result",
          "data": {
            "text/html": [
              "<div>\n",
              "<style scoped>\n",
              "    .dataframe tbody tr th:only-of-type {\n",
              "        vertical-align: middle;\n",
              "    }\n",
              "\n",
              "    .dataframe tbody tr th {\n",
              "        vertical-align: top;\n",
              "    }\n",
              "\n",
              "    .dataframe thead th {\n",
              "        text-align: right;\n",
              "    }\n",
              "</style>\n",
              "<table border=\"1\" class=\"dataframe\">\n",
              "  <thead>\n",
              "    <tr style=\"text-align: right;\">\n",
              "      <th></th>\n",
              "      <th></th>\n",
              "      <th>opiskelijaKoodi</th>\n",
              "      <th>tutkintokerta</th>\n",
              "      <th>sukupuoliKoodi</th>\n",
              "    </tr>\n",
              "    <tr>\n",
              "      <th>tutkintokertaKoodi</th>\n",
              "      <th>sukupuoli</th>\n",
              "      <th></th>\n",
              "      <th></th>\n",
              "      <th></th>\n",
              "    </tr>\n",
              "  </thead>\n",
              "  <tbody>\n",
              "    <tr>\n",
              "      <th rowspan=\"2\" valign=\"top\">2016K</th>\n",
              "      <th>Mies</th>\n",
              "      <td>5103</td>\n",
              "      <td>5103</td>\n",
              "      <td>5103</td>\n",
              "    </tr>\n",
              "    <tr>\n",
              "      <th>Nainen</th>\n",
              "      <td>4784</td>\n",
              "      <td>4784</td>\n",
              "      <td>4784</td>\n",
              "    </tr>\n",
              "    <tr>\n",
              "      <th rowspan=\"2\" valign=\"top\">2017K</th>\n",
              "      <th>Mies</th>\n",
              "      <td>5151</td>\n",
              "      <td>5151</td>\n",
              "      <td>5151</td>\n",
              "    </tr>\n",
              "    <tr>\n",
              "      <th>Nainen</th>\n",
              "      <td>4716</td>\n",
              "      <td>4716</td>\n",
              "      <td>4716</td>\n",
              "    </tr>\n",
              "    <tr>\n",
              "      <th rowspan=\"2\" valign=\"top\">2018K</th>\n",
              "      <th>Mies</th>\n",
              "      <td>5312</td>\n",
              "      <td>5312</td>\n",
              "      <td>5312</td>\n",
              "    </tr>\n",
              "    <tr>\n",
              "      <th>Nainen</th>\n",
              "      <td>5201</td>\n",
              "      <td>5201</td>\n",
              "      <td>5201</td>\n",
              "    </tr>\n",
              "    <tr>\n",
              "      <th rowspan=\"2\" valign=\"top\">2019K</th>\n",
              "      <th>Mies</th>\n",
              "      <td>5574</td>\n",
              "      <td>5574</td>\n",
              "      <td>5574</td>\n",
              "    </tr>\n",
              "    <tr>\n",
              "      <th>Nainen</th>\n",
              "      <td>5399</td>\n",
              "      <td>5399</td>\n",
              "      <td>5399</td>\n",
              "    </tr>\n",
              "    <tr>\n",
              "      <th rowspan=\"2\" valign=\"top\">2020K</th>\n",
              "      <th>Mies</th>\n",
              "      <td>5511</td>\n",
              "      <td>5511</td>\n",
              "      <td>5511</td>\n",
              "    </tr>\n",
              "    <tr>\n",
              "      <th>Nainen</th>\n",
              "      <td>5949</td>\n",
              "      <td>5949</td>\n",
              "      <td>5949</td>\n",
              "    </tr>\n",
              "  </tbody>\n",
              "</table>\n",
              "</div>"
            ],
            "text/plain": [
              "                              opiskelijaKoodi  tutkintokerta  sukupuoliKoodi\n",
              "tutkintokertaKoodi sukupuoli                                                \n",
              "2016K              Mies                  5103           5103            5103\n",
              "                   Nainen                4784           4784            4784\n",
              "2017K              Mies                  5151           5151            5151\n",
              "                   Nainen                4716           4716            4716\n",
              "2018K              Mies                  5312           5312            5312\n",
              "                   Nainen                5201           5201            5201\n",
              "2019K              Mies                  5574           5574            5574\n",
              "                   Nainen                5399           5399            5399\n",
              "2020K              Mies                  5511           5511            5511\n",
              "                   Nainen                5949           5949            5949"
            ]
          },
          "metadata": {
            "tags": []
          },
          "execution_count": 103
        }
      ]
    },
    {
      "cell_type": "code",
      "metadata": {
        "colab": {
          "base_uri": "https://localhost:8080/",
          "height": 641
        },
        "id": "DEkoEE-zIT8k",
        "outputId": "ccf96462-5e33-40ae-af7a-b0f5681812ab"
      },
      "source": [
        "lkm['sukupuoli'] == 'Mies'"
      ],
      "execution_count": null,
      "outputs": [
        {
          "output_type": "error",
          "ename": "KeyError",
          "evalue": "ignored",
          "traceback": [
            "\u001b[0;31m---------------------------------------------------------------------------\u001b[0m",
            "\u001b[0;31mKeyError\u001b[0m                                  Traceback (most recent call last)",
            "\u001b[0;32m/usr/local/lib/python3.7/dist-packages/pandas/core/indexes/base.py\u001b[0m in \u001b[0;36mget_loc\u001b[0;34m(self, key, method, tolerance)\u001b[0m\n\u001b[1;32m   2897\u001b[0m             \u001b[0;32mtry\u001b[0m\u001b[0;34m:\u001b[0m\u001b[0;34m\u001b[0m\u001b[0;34m\u001b[0m\u001b[0m\n\u001b[0;32m-> 2898\u001b[0;31m                 \u001b[0;32mreturn\u001b[0m \u001b[0mself\u001b[0m\u001b[0;34m.\u001b[0m\u001b[0m_engine\u001b[0m\u001b[0;34m.\u001b[0m\u001b[0mget_loc\u001b[0m\u001b[0;34m(\u001b[0m\u001b[0mcasted_key\u001b[0m\u001b[0;34m)\u001b[0m\u001b[0;34m\u001b[0m\u001b[0;34m\u001b[0m\u001b[0m\n\u001b[0m\u001b[1;32m   2899\u001b[0m             \u001b[0;32mexcept\u001b[0m \u001b[0mKeyError\u001b[0m \u001b[0;32mas\u001b[0m \u001b[0merr\u001b[0m\u001b[0;34m:\u001b[0m\u001b[0;34m\u001b[0m\u001b[0;34m\u001b[0m\u001b[0m\n",
            "\u001b[0;32mpandas/_libs/index.pyx\u001b[0m in \u001b[0;36mpandas._libs.index.IndexEngine.get_loc\u001b[0;34m()\u001b[0m\n",
            "\u001b[0;32mpandas/_libs/index.pyx\u001b[0m in \u001b[0;36mpandas._libs.index.IndexEngine.get_loc\u001b[0;34m()\u001b[0m\n",
            "\u001b[0;32mpandas/_libs/hashtable_class_helper.pxi\u001b[0m in \u001b[0;36mpandas._libs.hashtable.PyObjectHashTable.get_item\u001b[0;34m()\u001b[0m\n",
            "\u001b[0;32mpandas/_libs/hashtable_class_helper.pxi\u001b[0m in \u001b[0;36mpandas._libs.hashtable.PyObjectHashTable.get_item\u001b[0;34m()\u001b[0m\n",
            "\u001b[0;31mKeyError\u001b[0m: 'sukupuoli'",
            "\nThe above exception was the direct cause of the following exception:\n",
            "\u001b[0;31mKeyError\u001b[0m                                  Traceback (most recent call last)",
            "\u001b[0;32m<ipython-input-106-48de30ac41a0>\u001b[0m in \u001b[0;36m<module>\u001b[0;34m()\u001b[0m\n\u001b[0;32m----> 1\u001b[0;31m \u001b[0mlkm\u001b[0m\u001b[0;34m[\u001b[0m\u001b[0;34m'sukupuoli'\u001b[0m\u001b[0;34m]\u001b[0m \u001b[0;34m==\u001b[0m \u001b[0;34m'Mies'\u001b[0m\u001b[0;34m\u001b[0m\u001b[0;34m\u001b[0m\u001b[0m\n\u001b[0m",
            "\u001b[0;32m/usr/local/lib/python3.7/dist-packages/pandas/core/frame.py\u001b[0m in \u001b[0;36m__getitem__\u001b[0;34m(self, key)\u001b[0m\n\u001b[1;32m   2904\u001b[0m             \u001b[0;32mif\u001b[0m \u001b[0mself\u001b[0m\u001b[0;34m.\u001b[0m\u001b[0mcolumns\u001b[0m\u001b[0;34m.\u001b[0m\u001b[0mnlevels\u001b[0m \u001b[0;34m>\u001b[0m \u001b[0;36m1\u001b[0m\u001b[0;34m:\u001b[0m\u001b[0;34m\u001b[0m\u001b[0;34m\u001b[0m\u001b[0m\n\u001b[1;32m   2905\u001b[0m                 \u001b[0;32mreturn\u001b[0m \u001b[0mself\u001b[0m\u001b[0;34m.\u001b[0m\u001b[0m_getitem_multilevel\u001b[0m\u001b[0;34m(\u001b[0m\u001b[0mkey\u001b[0m\u001b[0;34m)\u001b[0m\u001b[0;34m\u001b[0m\u001b[0;34m\u001b[0m\u001b[0m\n\u001b[0;32m-> 2906\u001b[0;31m             \u001b[0mindexer\u001b[0m \u001b[0;34m=\u001b[0m \u001b[0mself\u001b[0m\u001b[0;34m.\u001b[0m\u001b[0mcolumns\u001b[0m\u001b[0;34m.\u001b[0m\u001b[0mget_loc\u001b[0m\u001b[0;34m(\u001b[0m\u001b[0mkey\u001b[0m\u001b[0;34m)\u001b[0m\u001b[0;34m\u001b[0m\u001b[0;34m\u001b[0m\u001b[0m\n\u001b[0m\u001b[1;32m   2907\u001b[0m             \u001b[0;32mif\u001b[0m \u001b[0mis_integer\u001b[0m\u001b[0;34m(\u001b[0m\u001b[0mindexer\u001b[0m\u001b[0;34m)\u001b[0m\u001b[0;34m:\u001b[0m\u001b[0;34m\u001b[0m\u001b[0;34m\u001b[0m\u001b[0m\n\u001b[1;32m   2908\u001b[0m                 \u001b[0mindexer\u001b[0m \u001b[0;34m=\u001b[0m \u001b[0;34m[\u001b[0m\u001b[0mindexer\u001b[0m\u001b[0;34m]\u001b[0m\u001b[0;34m\u001b[0m\u001b[0;34m\u001b[0m\u001b[0m\n",
            "\u001b[0;32m/usr/local/lib/python3.7/dist-packages/pandas/core/indexes/base.py\u001b[0m in \u001b[0;36mget_loc\u001b[0;34m(self, key, method, tolerance)\u001b[0m\n\u001b[1;32m   2898\u001b[0m                 \u001b[0;32mreturn\u001b[0m \u001b[0mself\u001b[0m\u001b[0;34m.\u001b[0m\u001b[0m_engine\u001b[0m\u001b[0;34m.\u001b[0m\u001b[0mget_loc\u001b[0m\u001b[0;34m(\u001b[0m\u001b[0mcasted_key\u001b[0m\u001b[0;34m)\u001b[0m\u001b[0;34m\u001b[0m\u001b[0;34m\u001b[0m\u001b[0m\n\u001b[1;32m   2899\u001b[0m             \u001b[0;32mexcept\u001b[0m \u001b[0mKeyError\u001b[0m \u001b[0;32mas\u001b[0m \u001b[0merr\u001b[0m\u001b[0;34m:\u001b[0m\u001b[0;34m\u001b[0m\u001b[0;34m\u001b[0m\u001b[0m\n\u001b[0;32m-> 2900\u001b[0;31m                 \u001b[0;32mraise\u001b[0m \u001b[0mKeyError\u001b[0m\u001b[0;34m(\u001b[0m\u001b[0mkey\u001b[0m\u001b[0;34m)\u001b[0m \u001b[0;32mfrom\u001b[0m \u001b[0merr\u001b[0m\u001b[0;34m\u001b[0m\u001b[0;34m\u001b[0m\u001b[0m\n\u001b[0m\u001b[1;32m   2901\u001b[0m \u001b[0;34m\u001b[0m\u001b[0m\n\u001b[1;32m   2902\u001b[0m         \u001b[0;32mif\u001b[0m \u001b[0mtolerance\u001b[0m \u001b[0;32mis\u001b[0m \u001b[0;32mnot\u001b[0m \u001b[0;32mNone\u001b[0m\u001b[0;34m:\u001b[0m\u001b[0;34m\u001b[0m\u001b[0;34m\u001b[0m\u001b[0m\n",
            "\u001b[0;31mKeyError\u001b[0m: 'sukupuoli'"
          ]
        }
      ]
    },
    {
      "cell_type": "code",
      "metadata": {
        "colab": {
          "base_uri": "https://localhost:8080/",
          "height": 99
        },
        "id": "92iaHFRAJsXA",
        "outputId": "3a761454-8e0e-437b-a1dc-a2c937a1a401"
      },
      "source": [
        "lkm[lkm['sukupuoliKoodi'] == 'Nainen']"
      ],
      "execution_count": null,
      "outputs": [
        {
          "output_type": "execute_result",
          "data": {
            "text/html": [
              "<div>\n",
              "<style scoped>\n",
              "    .dataframe tbody tr th:only-of-type {\n",
              "        vertical-align: middle;\n",
              "    }\n",
              "\n",
              "    .dataframe tbody tr th {\n",
              "        vertical-align: top;\n",
              "    }\n",
              "\n",
              "    .dataframe thead th {\n",
              "        text-align: right;\n",
              "    }\n",
              "</style>\n",
              "<table border=\"1\" class=\"dataframe\">\n",
              "  <thead>\n",
              "    <tr style=\"text-align: right;\">\n",
              "      <th></th>\n",
              "      <th></th>\n",
              "      <th>opiskelijaKoodi</th>\n",
              "      <th>tutkintokerta</th>\n",
              "      <th>lukioKoodi</th>\n",
              "      <th>lukio</th>\n",
              "      <th>oppilaitostyyppiKoodi</th>\n",
              "      <th>oppilaitostyyppi</th>\n",
              "      <th>opetuskieliKoodi</th>\n",
              "      <th>opetuskieli</th>\n",
              "      <th>sukupuoliKoodi</th>\n",
              "      <th>koeKoodi</th>\n",
              "      <th>koe</th>\n",
              "      <th>arvosanaKoodi</th>\n",
              "      <th>arvosana</th>\n",
              "      <th>arvosanapisteet</th>\n",
              "    </tr>\n",
              "    <tr>\n",
              "      <th>tutkintokertaKoodi</th>\n",
              "      <th>sukupuoli</th>\n",
              "      <th></th>\n",
              "      <th></th>\n",
              "      <th></th>\n",
              "      <th></th>\n",
              "      <th></th>\n",
              "      <th></th>\n",
              "      <th></th>\n",
              "      <th></th>\n",
              "      <th></th>\n",
              "      <th></th>\n",
              "      <th></th>\n",
              "      <th></th>\n",
              "      <th></th>\n",
              "      <th></th>\n",
              "    </tr>\n",
              "  </thead>\n",
              "  <tbody>\n",
              "  </tbody>\n",
              "</table>\n",
              "</div>"
            ],
            "text/plain": [
              "Empty DataFrame\n",
              "Columns: [opiskelijaKoodi, tutkintokerta, lukioKoodi, lukio, oppilaitostyyppiKoodi, oppilaitostyyppi, opetuskieliKoodi, opetuskieli, sukupuoliKoodi, koeKoodi, koe, arvosanaKoodi, arvosana, arvosanapisteet]\n",
              "Index: []"
            ]
          },
          "metadata": {
            "tags": []
          },
          "execution_count": 110
        }
      ]
    },
    {
      "cell_type": "code",
      "metadata": {
        "id": "PSKluf03wIUI"
      },
      "source": [
        "ka = pd.read_csv('ka.csv',sep=';')"
      ],
      "execution_count": null,
      "outputs": []
    },
    {
      "cell_type": "code",
      "metadata": {
        "id": "p3k_F4LFwP6F"
      },
      "source": [
        "ka = ka.drop(columns=['opiskelijaKoodi'])"
      ],
      "execution_count": null,
      "outputs": []
    },
    {
      "cell_type": "markdown",
      "metadata": {
        "id": "U8ZsLRN2EOZJ"
      },
      "source": [
        "Viidessä tutkintokerrassa on sekä naisia että miehiä."
      ]
    },
    {
      "cell_type": "code",
      "metadata": {
        "colab": {
          "base_uri": "https://localhost:8080/",
          "height": 279
        },
        "id": "hYnkEK0YxL3O",
        "outputId": "d5b11c6d-3de0-4cf2-d4a5-bbdfa7febc2d"
      },
      "source": [
        "ka.plot.bar()"
      ],
      "execution_count": null,
      "outputs": [
        {
          "output_type": "execute_result",
          "data": {
            "text/plain": [
              "<matplotlib.axes._subplots.AxesSubplot at 0x7f9986228bd0>"
            ]
          },
          "metadata": {
            "tags": []
          },
          "execution_count": 44
        },
        {
          "output_type": "display_data",
          "data": {
            "image/png": "[encoded data removed]",
            "text/plain": [
              "<Figure size 432x288 with 1 Axes>"
            ]
          },
          "metadata": {
            "tags": [],
            "needs_background": "light"
          }
        }
      ]
    },
    {
      "cell_type": "code",
      "metadata": {
        "colab": {
          "base_uri": "https://localhost:8080/",
          "height": 161
        },
        "id": "CW9akPa39K6R",
        "outputId": "02c933d0-c944-422f-ffcd-d5c270e76d56"
      },
      "source": [
        "ka.T"
      ],
      "execution_count": null,
      "outputs": [
        {
          "output_type": "execute_result",
          "data": {
            "text/html": [
              "<div>\n",
              "<style scoped>\n",
              "    .dataframe tbody tr th:only-of-type {\n",
              "        vertical-align: middle;\n",
              "    }\n",
              "\n",
              "    .dataframe tbody tr th {\n",
              "        vertical-align: top;\n",
              "    }\n",
              "\n",
              "    .dataframe thead th {\n",
              "        text-align: right;\n",
              "    }\n",
              "</style>\n",
              "<table border=\"1\" class=\"dataframe\">\n",
              "  <thead>\n",
              "    <tr style=\"text-align: right;\">\n",
              "      <th></th>\n",
              "      <th>0</th>\n",
              "      <th>1</th>\n",
              "      <th>2</th>\n",
              "      <th>3</th>\n",
              "      <th>4</th>\n",
              "      <th>5</th>\n",
              "      <th>6</th>\n",
              "      <th>7</th>\n",
              "      <th>8</th>\n",
              "      <th>9</th>\n",
              "    </tr>\n",
              "  </thead>\n",
              "  <tbody>\n",
              "    <tr>\n",
              "      <th>tutkintokertaKoodi</th>\n",
              "      <td>2016K</td>\n",
              "      <td>2016K</td>\n",
              "      <td>2017K</td>\n",
              "      <td>2017K</td>\n",
              "      <td>2018K</td>\n",
              "      <td>2018K</td>\n",
              "      <td>2019K</td>\n",
              "      <td>2019K</td>\n",
              "      <td>2020K</td>\n",
              "      <td>2020K</td>\n",
              "    </tr>\n",
              "    <tr>\n",
              "      <th>sukupuoli</th>\n",
              "      <td>Mies</td>\n",
              "      <td>Nainen</td>\n",
              "      <td>Mies</td>\n",
              "      <td>Nainen</td>\n",
              "      <td>Mies</td>\n",
              "      <td>Nainen</td>\n",
              "      <td>Mies</td>\n",
              "      <td>Nainen</td>\n",
              "      <td>Mies</td>\n",
              "      <td>Nainen</td>\n",
              "    </tr>\n",
              "    <tr>\n",
              "      <th>arvosanapisteet</th>\n",
              "      <td>4.84539</td>\n",
              "      <td>4.57316</td>\n",
              "      <td>4.76296</td>\n",
              "      <td>4.63147</td>\n",
              "      <td>4.70614</td>\n",
              "      <td>4.56393</td>\n",
              "      <td>4.68873</td>\n",
              "      <td>4.43471</td>\n",
              "      <td>4.61277</td>\n",
              "      <td>4.39889</td>\n",
              "    </tr>\n",
              "  </tbody>\n",
              "</table>\n",
              "</div>"
            ],
            "text/plain": [
              "                          0        1        2  ...        7        8        9\n",
              "tutkintokertaKoodi    2016K    2016K    2017K  ...    2019K    2020K    2020K\n",
              "sukupuoli              Mies   Nainen     Mies  ...   Nainen     Mies   Nainen\n",
              "arvosanapisteet     4.84539  4.57316  4.76296  ...  4.43471  4.61277  4.39889\n",
              "\n",
              "[3 rows x 10 columns]"
            ]
          },
          "metadata": {
            "tags": []
          },
          "execution_count": 45
        }
      ]
    },
    {
      "cell_type": "code",
      "metadata": {
        "colab": {
          "base_uri": "https://localhost:8080/",
          "height": 355
        },
        "id": "rP5CSjPy9pPP",
        "outputId": "5759d0f9-6f5c-4db1-b7e1-670a9530bc7f"
      },
      "source": [
        "ka"
      ],
      "execution_count": null,
      "outputs": [
        {
          "output_type": "execute_result",
          "data": {
            "text/html": [
              "<div>\n",
              "<style scoped>\n",
              "    .dataframe tbody tr th:only-of-type {\n",
              "        vertical-align: middle;\n",
              "    }\n",
              "\n",
              "    .dataframe tbody tr th {\n",
              "        vertical-align: top;\n",
              "    }\n",
              "\n",
              "    .dataframe thead th {\n",
              "        text-align: right;\n",
              "    }\n",
              "</style>\n",
              "<table border=\"1\" class=\"dataframe\">\n",
              "  <thead>\n",
              "    <tr style=\"text-align: right;\">\n",
              "      <th></th>\n",
              "      <th>tutkintokertaKoodi</th>\n",
              "      <th>sukupuoli</th>\n",
              "      <th>arvosanapisteet</th>\n",
              "    </tr>\n",
              "  </thead>\n",
              "  <tbody>\n",
              "    <tr>\n",
              "      <th>0</th>\n",
              "      <td>2016K</td>\n",
              "      <td>Mies</td>\n",
              "      <td>4.845385</td>\n",
              "    </tr>\n",
              "    <tr>\n",
              "      <th>1</th>\n",
              "      <td>2016K</td>\n",
              "      <td>Nainen</td>\n",
              "      <td>4.573161</td>\n",
              "    </tr>\n",
              "    <tr>\n",
              "      <th>2</th>\n",
              "      <td>2017K</td>\n",
              "      <td>Mies</td>\n",
              "      <td>4.762959</td>\n",
              "    </tr>\n",
              "    <tr>\n",
              "      <th>3</th>\n",
              "      <td>2017K</td>\n",
              "      <td>Nainen</td>\n",
              "      <td>4.631467</td>\n",
              "    </tr>\n",
              "    <tr>\n",
              "      <th>4</th>\n",
              "      <td>2018K</td>\n",
              "      <td>Mies</td>\n",
              "      <td>4.706137</td>\n",
              "    </tr>\n",
              "    <tr>\n",
              "      <th>5</th>\n",
              "      <td>2018K</td>\n",
              "      <td>Nainen</td>\n",
              "      <td>4.563930</td>\n",
              "    </tr>\n",
              "    <tr>\n",
              "      <th>6</th>\n",
              "      <td>2019K</td>\n",
              "      <td>Mies</td>\n",
              "      <td>4.688733</td>\n",
              "    </tr>\n",
              "    <tr>\n",
              "      <th>7</th>\n",
              "      <td>2019K</td>\n",
              "      <td>Nainen</td>\n",
              "      <td>4.434710</td>\n",
              "    </tr>\n",
              "    <tr>\n",
              "      <th>8</th>\n",
              "      <td>2020K</td>\n",
              "      <td>Mies</td>\n",
              "      <td>4.612774</td>\n",
              "    </tr>\n",
              "    <tr>\n",
              "      <th>9</th>\n",
              "      <td>2020K</td>\n",
              "      <td>Nainen</td>\n",
              "      <td>4.398891</td>\n",
              "    </tr>\n",
              "  </tbody>\n",
              "</table>\n",
              "</div>"
            ],
            "text/plain": [
              "  tutkintokertaKoodi sukupuoli  arvosanapisteet\n",
              "0              2016K      Mies         4.845385\n",
              "1              2016K    Nainen         4.573161\n",
              "2              2017K      Mies         4.762959\n",
              "3              2017K    Nainen         4.631467\n",
              "4              2018K      Mies         4.706137\n",
              "5              2018K    Nainen         4.563930\n",
              "6              2019K      Mies         4.688733\n",
              "7              2019K    Nainen         4.434710\n",
              "8              2020K      Mies         4.612774\n",
              "9              2020K    Nainen         4.398891"
            ]
          },
          "metadata": {
            "tags": []
          },
          "execution_count": 46
        }
      ]
    },
    {
      "cell_type": "markdown",
      "metadata": {
        "id": "2pZtRCJMEZuC"
      },
      "source": [
        "Taulukon muoto pitää muuttaa erilaiseksi, että saamme kaksi vertailtavaa sarjaa sukupuolen mukaan."
      ]
    },
    {
      "cell_type": "code",
      "metadata": {
        "id": "_X7OFjZ59sJl"
      },
      "source": [
        "mies = ka[ka.sukupuoli == 'Mies']['arvosanapisteet'].reset_index()"
      ],
      "execution_count": null,
      "outputs": []
    },
    {
      "cell_type": "code",
      "metadata": {
        "id": "jDMdO1ei-auY"
      },
      "source": [
        "nainen = ka[ka.sukupuoli == 'Nainen']['arvosanapisteet'].reset_index()"
      ],
      "execution_count": null,
      "outputs": []
    },
    {
      "cell_type": "code",
      "metadata": {
        "id": "ynR74wMw94nc"
      },
      "source": [
        "mies.columns = ['mies','mpisteet']"
      ],
      "execution_count": null,
      "outputs": []
    },
    {
      "cell_type": "code",
      "metadata": {
        "id": "_LKsOJez-idi"
      },
      "source": [
        "nainen.columns = ['nainen','npisteet']"
      ],
      "execution_count": null,
      "outputs": []
    },
    {
      "cell_type": "code",
      "metadata": {
        "id": "KZFYkZtL-n5c"
      },
      "source": [
        "jakso = ka.tutkintokertaKoodi.unique()"
      ],
      "execution_count": null,
      "outputs": []
    },
    {
      "cell_type": "code",
      "metadata": {
        "colab": {
          "base_uri": "https://localhost:8080/"
        },
        "id": "_OvRHGto-umm",
        "outputId": "09f6038d-0984-4da1-9312-490e9a6427d9"
      },
      "source": [
        "jakso"
      ],
      "execution_count": null,
      "outputs": [
        {
          "output_type": "execute_result",
          "data": {
            "text/plain": [
              "0    2016K\n",
              "1    2017K\n",
              "2    2018K\n",
              "3    2019K\n",
              "4    2020K\n",
              "dtype: object"
            ]
          },
          "metadata": {
            "tags": []
          },
          "execution_count": 87
        }
      ]
    },
    {
      "cell_type": "code",
      "metadata": {
        "id": "1p6mcQkl-yjr"
      },
      "source": [
        "jakso = pd.Series(jakso)"
      ],
      "execution_count": null,
      "outputs": []
    },
    {
      "cell_type": "code",
      "metadata": {
        "id": "yM4_7s7hLt4W"
      },
      "source": [
        "lkmMies=pd.Series(lkmMies).reset_index()"
      ],
      "execution_count": null,
      "outputs": []
    },
    {
      "cell_type": "code",
      "metadata": {
        "id": "xdVoqnOGLtuw"
      },
      "source": [
        "lkmNainen=pd.Series(lkmNainen).reset_index()"
      ],
      "execution_count": null,
      "outputs": []
    },
    {
      "cell_type": "code",
      "metadata": {
        "id": "67aT1NC8Q1q6"
      },
      "source": [
        "lkmNainen.columns = ['nindex', 'nlkm']"
      ],
      "execution_count": 138,
      "outputs": []
    },
    {
      "cell_type": "code",
      "metadata": {
        "id": "1EXXl4agRAGA"
      },
      "source": [
        "lkmMies.columns = ['mindex', 'mlkm']"
      ],
      "execution_count": 139,
      "outputs": []
    },
    {
      "cell_type": "code",
      "metadata": {
        "id": "2dDgV7x0_Mvp"
      },
      "source": [
        "dfka = pd.DataFrame(pd.concat([jakso, mies, nainen, lkmMies, lkmNainen], axis=1))"
      ],
      "execution_count": 140,
      "outputs": []
    },
    {
      "cell_type": "code",
      "metadata": {
        "colab": {
          "base_uri": "https://localhost:8080/",
          "height": 202
        },
        "id": "_3GniwJZRI9R",
        "outputId": "ea1163fe-7cad-4e18-ef69-5cf5549a341b"
      },
      "source": [
        "dfka"
      ],
      "execution_count": 145,
      "outputs": [
        {
          "output_type": "execute_result",
          "data": {
            "text/html": [
              "<div>\n",
              "<style scoped>\n",
              "    .dataframe tbody tr th:only-of-type {\n",
              "        vertical-align: middle;\n",
              "    }\n",
              "\n",
              "    .dataframe tbody tr th {\n",
              "        vertical-align: top;\n",
              "    }\n",
              "\n",
              "    .dataframe thead th {\n",
              "        text-align: right;\n",
              "    }\n",
              "</style>\n",
              "<table border=\"1\" class=\"dataframe\">\n",
              "  <thead>\n",
              "    <tr style=\"text-align: right;\">\n",
              "      <th></th>\n",
              "      <th>0</th>\n",
              "      <th>mpisteet</th>\n",
              "      <th>npisteet</th>\n",
              "      <th>mlkm</th>\n",
              "      <th>nlkm</th>\n",
              "    </tr>\n",
              "  </thead>\n",
              "  <tbody>\n",
              "    <tr>\n",
              "      <th>0</th>\n",
              "      <td>2016K</td>\n",
              "      <td>4.845385</td>\n",
              "      <td>4.573161</td>\n",
              "      <td>5103</td>\n",
              "      <td>4784</td>\n",
              "    </tr>\n",
              "    <tr>\n",
              "      <th>1</th>\n",
              "      <td>2017K</td>\n",
              "      <td>4.762959</td>\n",
              "      <td>4.631467</td>\n",
              "      <td>5151</td>\n",
              "      <td>4716</td>\n",
              "    </tr>\n",
              "    <tr>\n",
              "      <th>2</th>\n",
              "      <td>2018K</td>\n",
              "      <td>4.706137</td>\n",
              "      <td>4.563930</td>\n",
              "      <td>5312</td>\n",
              "      <td>5201</td>\n",
              "    </tr>\n",
              "    <tr>\n",
              "      <th>3</th>\n",
              "      <td>2019K</td>\n",
              "      <td>4.688733</td>\n",
              "      <td>4.434710</td>\n",
              "      <td>5574</td>\n",
              "      <td>5399</td>\n",
              "    </tr>\n",
              "    <tr>\n",
              "      <th>4</th>\n",
              "      <td>2020K</td>\n",
              "      <td>4.612774</td>\n",
              "      <td>4.398891</td>\n",
              "      <td>5511</td>\n",
              "      <td>5949</td>\n",
              "    </tr>\n",
              "  </tbody>\n",
              "</table>\n",
              "</div>"
            ],
            "text/plain": [
              "       0  mpisteet  npisteet  mlkm  nlkm\n",
              "0  2016K  4.845385  4.573161  5103  4784\n",
              "1  2017K  4.762959  4.631467  5151  4716\n",
              "2  2018K  4.706137  4.563930  5312  5201\n",
              "3  2019K  4.688733  4.434710  5574  5399\n",
              "4  2020K  4.612774  4.398891  5511  5949"
            ]
          },
          "metadata": {
            "tags": []
          },
          "execution_count": 145
        }
      ]
    },
    {
      "cell_type": "code",
      "metadata": {
        "id": "hDHXR061BFQ9"
      },
      "source": [
        "dfka = dfka.drop(columns=['mies', 'nainen', 'mindex', 'nindex'])"
      ],
      "execution_count": 144,
      "outputs": []
    },
    {
      "cell_type": "code",
      "metadata": {
        "id": "fVY4lbIJMDXY"
      },
      "source": [
        "dfka.to_csv('ka.csv', sep=';', index=False, decimal=',')"
      ],
      "execution_count": 148,
      "outputs": []
    },
    {
      "cell_type": "code",
      "metadata": {
        "id": "9-qdzZZlBFBT"
      },
      "source": [
        "dfka = dfka.drop(['mies','nainen'], axis=1)"
      ],
      "execution_count": null,
      "outputs": []
    },
    {
      "cell_type": "markdown",
      "metadata": {
        "id": "QprdL8iuEsYJ"
      },
      "source": [
        "Kuvassa on miesten ja naisten keskiarvopisteet yli tutkintokertojen."
      ]
    },
    {
      "cell_type": "code",
      "metadata": {
        "colab": {
          "base_uri": "https://localhost:8080/",
          "height": 279
        },
        "id": "cQuqt4k5Bq5H",
        "outputId": "10a26c45-f02e-4c40-b8bc-1b4328d99fa1"
      },
      "source": [
        "dfka.plot.bar()"
      ],
      "execution_count": null,
      "outputs": [
        {
          "output_type": "execute_result",
          "data": {
            "text/plain": [
              "<matplotlib.axes._subplots.AxesSubplot at 0x7f99861b5890>"
            ]
          },
          "metadata": {
            "tags": []
          },
          "execution_count": 97
        },
        {
          "output_type": "display_data",
          "data": {
            "image/png": "[encoded data removed]",
            "text/plain": [
              "<Figure size 432x288 with 1 Axes>"
            ]
          },
          "metadata": {
            "tags": [],
            "needs_background": "light"
          }
        }
      ]
    },
    {
      "cell_type": "code",
      "metadata": {
        "colab": {
          "base_uri": "https://localhost:8080/",
          "height": 202
        },
        "id": "qNktVUjtB2nv",
        "outputId": "74a2ff68-e2bb-4a9d-b5ff-686129951bbe"
      },
      "source": [
        "dfka"
      ],
      "execution_count": null,
      "outputs": [
        {
          "output_type": "execute_result",
          "data": {
            "text/html": [
              "<div>\n",
              "<style scoped>\n",
              "    .dataframe tbody tr th:only-of-type {\n",
              "        vertical-align: middle;\n",
              "    }\n",
              "\n",
              "    .dataframe tbody tr th {\n",
              "        vertical-align: top;\n",
              "    }\n",
              "\n",
              "    .dataframe thead th {\n",
              "        text-align: right;\n",
              "    }\n",
              "</style>\n",
              "<table border=\"1\" class=\"dataframe\">\n",
              "  <thead>\n",
              "    <tr style=\"text-align: right;\">\n",
              "      <th></th>\n",
              "      <th>0</th>\n",
              "      <th>mpisteet</th>\n",
              "      <th>npisteet</th>\n",
              "    </tr>\n",
              "  </thead>\n",
              "  <tbody>\n",
              "    <tr>\n",
              "      <th>0</th>\n",
              "      <td>2016K</td>\n",
              "      <td>4.845385</td>\n",
              "      <td>4.573161</td>\n",
              "    </tr>\n",
              "    <tr>\n",
              "      <th>1</th>\n",
              "      <td>2017K</td>\n",
              "      <td>4.762959</td>\n",
              "      <td>4.631467</td>\n",
              "    </tr>\n",
              "    <tr>\n",
              "      <th>2</th>\n",
              "      <td>2018K</td>\n",
              "      <td>4.706137</td>\n",
              "      <td>4.563930</td>\n",
              "    </tr>\n",
              "    <tr>\n",
              "      <th>3</th>\n",
              "      <td>2019K</td>\n",
              "      <td>4.688733</td>\n",
              "      <td>4.434710</td>\n",
              "    </tr>\n",
              "    <tr>\n",
              "      <th>4</th>\n",
              "      <td>2020K</td>\n",
              "      <td>4.612774</td>\n",
              "      <td>4.398891</td>\n",
              "    </tr>\n",
              "  </tbody>\n",
              "</table>\n",
              "</div>"
            ],
            "text/plain": [
              "       0  mpisteet  npisteet\n",
              "0  2016K  4.845385  4.573161\n",
              "1  2017K  4.762959  4.631467\n",
              "2  2018K  4.706137  4.563930\n",
              "3  2019K  4.688733  4.434710\n",
              "4  2020K  4.612774  4.398891"
            ]
          },
          "metadata": {
            "tags": []
          },
          "execution_count": 98
        }
      ]
    },
    {
      "cell_type": "code",
      "metadata": {
        "id": "wa25Wf9DcI3-"
      },
      "source": [
        "groups = df.groupby('tutkintokerta')"
      ],
      "execution_count": null,
      "outputs": []
    },
    {
      "cell_type": "code",
      "metadata": {
        "colab": {
          "base_uri": "https://localhost:8080/"
        },
        "id": "GIgeSwC3enkT",
        "outputId": "804f76ec-f0f1-49e9-aa12-ea6829cda284"
      },
      "source": [
        "#groups.arvosanapisteet.agg(['sum','mean','min', 'max']).plot.bar()\r\n",
        "groups.arvosanapisteet.agg(['mean']).min()"
      ],
      "execution_count": null,
      "outputs": [
        {
          "output_type": "execute_result",
          "data": {
            "text/plain": [
              "mean    3.818824\n",
              "dtype: float64"
            ]
          },
          "metadata": {
            "tags": []
          },
          "execution_count": 53
        }
      ]
    },
    {
      "cell_type": "code",
      "metadata": {
        "colab": {
          "base_uri": "https://localhost:8080/"
        },
        "id": "Nb9MVNxtcRTK",
        "outputId": "088476a3-2e49-4877-ba29-5f412d974f4a"
      },
      "source": [
        "!ls -lh"
      ],
      "execution_count": null,
      "outputs": [
        {
          "output_type": "stream",
          "text": [
            "total 588M\n",
            "drwxr-xr-x 1 root root 4.0K Mar  1 14:35 sample_data\n",
            "-rw-r--r-- 1 root root 489M Mar  6 07:29 vosdata.json\n",
            "-rw-r--r-- 1 root root  99M Mar  6 07:29 yodata.csv\n"
          ],
          "name": "stdout"
        }
      ]
    },
    {
      "cell_type": "code",
      "metadata": {
        "colab": {
          "base_uri": "https://localhost:8080/"
        },
        "id": "KLvTKFL9cTrD",
        "outputId": "bf1e0041-6c69-4d14-d967-b2df43e2b4bd"
      },
      "source": [
        "df_kevat.head(4)"
      ],
      "execution_count": null,
      "outputs": [
        {
          "output_type": "error",
          "ename": "NameError",
          "evalue": "ignored",
          "traceback": [
            "\u001b[0;31m---------------------------------------------------------------------------\u001b[0m",
            "\u001b[0;31mNameError\u001b[0m                                 Traceback (most recent call last)",
            "\u001b[0;32m<ipython-input-1-91e20b7fd942>\u001b[0m in \u001b[0;36m<module>\u001b[0;34m()\u001b[0m\n\u001b[0;32m----> 1\u001b[0;31m \u001b[0mdf_kevat\u001b[0m\u001b[0;34m.\u001b[0m\u001b[0mhead\u001b[0m\u001b[0;34m(\u001b[0m\u001b[0;36m4\u001b[0m\u001b[0;34m)\u001b[0m\u001b[0;34m\u001b[0m\u001b[0;34m\u001b[0m\u001b[0m\n\u001b[0m",
            "\u001b[0;31mNameError\u001b[0m: name 'df_kevat' is not defined"
          ]
        }
      ]
    },
    {
      "cell_type": "code",
      "metadata": {
        "id": "Dz1lb-5YHEH-"
      },
      "source": [
        ""
      ],
      "execution_count": null,
      "outputs": []
    }
  ]
}